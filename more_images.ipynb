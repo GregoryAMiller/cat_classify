{
 "cells": [
  {
   "cell_type": "code",
   "execution_count": 12,
   "metadata": {},
   "outputs": [],
   "source": [
    "import random\n",
    "from PIL import Image, ImageOps\n",
    "import os"
   ]
  },
  {
   "cell_type": "code",
   "execution_count": 13,
   "metadata": {},
   "outputs": [],
   "source": [
    "def rotate_image(image, angle):\n",
    "  \"\"\"Rotates an image by a given angle.\n",
    "\n",
    "  Args:\n",
    "    image: A PIL Image object.\n",
    "    angle: The angle to rotate the image by, in degrees.\n",
    "\n",
    "  Returns:\n",
    "    A rotated PIL Image object.\n",
    "  \"\"\"\n",
    "\n",
    "  return image.rotate(angle)"
   ]
  },
  {
   "cell_type": "code",
   "execution_count": 14,
   "metadata": {},
   "outputs": [],
   "source": [
    "def change_image_color(image, color_shift):\n",
    "  \"\"\"Changes the color of an image by a given amount.\n",
    "\n",
    "  Args:\n",
    "    image: A PIL Image object.\n",
    "    color_shift: A tuple of three values, representing the amount to shift the\n",
    "      red, green, and blue channels, respectively.\n",
    "\n",
    "  Returns:\n",
    "    A PIL Image object with the colors shifted.\n",
    "  \"\"\"\n",
    "\n",
    "  return ImageOps.colorize(image, color_shift, white=(1.0, 1.0, 1.0))"
   ]
  },
  {
   "cell_type": "code",
   "execution_count": 15,
   "metadata": {},
   "outputs": [],
   "source": [
    "def save_image(image, filename):\n",
    "  \"\"\"Saves an image to a file.\n",
    "\n",
    "  Args:\n",
    "    image: A PIL Image object.\n",
    "    filename: The filename to save the image to.\n",
    "  \"\"\"\n",
    "\n",
    "  image.save(filename)"
   ]
  },
  {
   "cell_type": "code",
   "execution_count": 16,
   "metadata": {},
   "outputs": [],
   "source": [
    "# Loop through all the image files in the folder\n",
    "for folder in os.listdir(\"C:/Users/Grego/Desktop/cat_classify/images/\"):\n",
    "    for file in os.listdir(f\"C:/Users/Grego/Desktop/cat_classify/images/{folder}\"):\n",
    "\n",
    "        # Load the image file\n",
    "        image = Image.open(f'C:/Users/Grego/Desktop/cat_classify/images/{folder}/{file}')\n",
    "\n",
    "        # Rotate the image in 90-degree increments\n",
    "        rotation_angle = random.choice([0, 90, 180, 270])\n",
    "        rotated_image = rotate_image(image, rotation_angle)\n",
    "\n",
    "        # Save the rotated image to its folder\n",
    "        save_path = f'C:/Users/Grego/Desktop/cat_classify/images/{folder}/rotated_{file}'\n",
    "        rotated_image.save(save_path)"
   ]
  }
 ],
 "metadata": {
  "kernelspec": {
   "display_name": "Python 3",
   "language": "python",
   "name": "python3"
  },
  "language_info": {
   "codemirror_mode": {
    "name": "ipython",
    "version": 3
   },
   "file_extension": ".py",
   "mimetype": "text/x-python",
   "name": "python",
   "nbconvert_exporter": "python",
   "pygments_lexer": "ipython3",
   "version": "3.9.9"
  },
  "orig_nbformat": 4
 },
 "nbformat": 4,
 "nbformat_minor": 2
}
