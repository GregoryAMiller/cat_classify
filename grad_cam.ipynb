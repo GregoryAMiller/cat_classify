{
 "cells": [
  {
   "cell_type": "code",
   "execution_count": 10,
   "metadata": {},
   "outputs": [],
   "source": [
    "from keras.applications.vgg16 import VGG16, preprocess_input, decode_predictions\n",
    "from keras.models import load_model\n",
    "from keras.preprocessing import image\n",
    "import numpy as np\n",
    "import cv2\n",
    "from keras import backend as K\n",
    "import tensorflow as tf\n"
   ]
  },
  {
   "cell_type": "code",
   "execution_count": 19,
   "metadata": {},
   "outputs": [
    {
     "name": "stderr",
     "output_type": "stream",
     "text": [
      "C:\\Users\\Grego\\AppData\\Local\\Temp\\ipykernel_11648\\630779292.py:43: RuntimeWarning: invalid value encountered in divide\n",
      "  heatmap /= np.max(heatmap)\n",
      "C:\\Users\\Grego\\AppData\\Local\\Temp\\ipykernel_11648\\630779292.py:48: RuntimeWarning: invalid value encountered in cast\n",
      "  heatmap = np.uint8(255 * heatmap)\n"
     ]
    },
    {
     "data": {
      "text/plain": [
       "True"
      ]
     },
     "execution_count": 19,
     "metadata": {},
     "output_type": "execute_result"
    }
   ],
   "source": [
    "# Load your model\n",
    "model = load_model('my_trained_model5.h5')\n",
    "\n",
    "# Load the image with the desired target size\n",
    "img_path = 'test3.jpg'\n",
    "img = image.load_img(img_path, target_size=(200, 200))\n",
    "x = image.img_to_array(img)\n",
    "x = np.expand_dims(x, axis=0)\n",
    "x = preprocess_input(x)\n",
    "\n",
    "# Make a prediction\n",
    "preds = model(x, training=False)\n",
    "class_idx = np.argmax(preds[0])\n",
    "class_output = model.output[:, class_idx]\n",
    "\n",
    "# Identify the name of the last convolutional layer in your model\n",
    "# Adjust this according to your model architecture\n",
    "last_conv_layer_name = 'conv2d_3'\n",
    "last_conv_layer = model.get_layer(last_conv_layer_name)\n",
    "\n",
    "intermediate = tf.keras.Model(model.inputs, [model.output, last_conv_layer.output])\n",
    "with tf.GradientTape() as tape:\n",
    "    preds, conv_outputs = intermediate(x, training=False)\n",
    "    class_output = preds[:, class_idx]\n",
    "\n",
    "# Compute gradients\n",
    "grads = tape.gradient(class_output, conv_outputs)\n",
    "\n",
    "\n",
    "# Average gradient per feature map\n",
    "pooled_grads_value = tf.reduce_mean(grads, axis=(0, 1, 2)).numpy()\n",
    "\n",
    "# Get the feature map for the image, already computed above\n",
    "conv_layer_output_value = conv_outputs[0].numpy()\n",
    "\n",
    "# Multiply each channel in the feature map array by the gradient importance\n",
    "for i in range(conv_layer_output_value.shape[-1]):\n",
    "    conv_layer_output_value[:, :, i] *= pooled_grads_value[i]\n",
    "\n",
    "# Obtain the heatmap\n",
    "heatmap = np.mean(conv_layer_output_value, axis=-1)\n",
    "heatmap = np.maximum(heatmap, 0)\n",
    "heatmap /= np.max(heatmap)\n",
    "\n",
    "# Use OpenCV to overlay the heatmap on the original image\n",
    "img = cv2.imread(img_path)\n",
    "heatmap = cv2.resize(heatmap, (img.shape[1], img.shape[0]))\n",
    "heatmap = np.uint8(255 * heatmap)\n",
    "heatmap = cv2.applyColorMap(heatmap, cv2.COLORMAP_JET)\n",
    "superimposed_img = heatmap * 0.4 + img\n",
    "\n",
    "cv2.imwrite('gradcam.jpg', superimposed_img)"
   ]
  }
 ],
 "metadata": {
  "kernelspec": {
   "display_name": "Python 3",
   "language": "python",
   "name": "python3"
  },
  "language_info": {
   "codemirror_mode": {
    "name": "ipython",
    "version": 3
   },
   "file_extension": ".py",
   "mimetype": "text/x-python",
   "name": "python",
   "nbconvert_exporter": "python",
   "pygments_lexer": "ipython3",
   "version": "3.9.9"
  }
 },
 "nbformat": 4,
 "nbformat_minor": 2
}
